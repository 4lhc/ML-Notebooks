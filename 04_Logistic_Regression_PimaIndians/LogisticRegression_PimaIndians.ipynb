{
 "cells": [
  {
   "cell_type": "markdown",
   "metadata": {
    "colab_type": "text",
    "id": "TOeyuajPOFoV"
   },
   "source": [
    "# Coding Assignment 4\n",
    "\n",
    "```\n",
    "Logistic Regression Program - Pima Indians dataset\n",
    "Author: Sreejith S\n",
    "```\n",
    "\n",
    "Ref: https://www.kaggle.com/uciml/pima-indians-diabetes-database\n",
    "\n",
    "Ref: https://www.medicinenet.com/glucose_tolerance_test/article.htm\n",
    "\n",
    "Ref: https://towardsdatascience.com/understanding-confusion-matrix-a9ad42dcfd62"
   ]
  },
  {
   "cell_type": "code",
   "execution_count": 349,
   "metadata": {
    "colab": {},
    "colab_type": "code",
    "id": "a7rDjc8cNW8G"
   },
   "outputs": [],
   "source": [
    "# Importing the libraries \n",
    "import numpy as np\n",
    "import matplotlib.pyplot as plt \n",
    "import pandas as pd"
   ]
  },
  {
   "cell_type": "markdown",
   "metadata": {
    "colab_type": "text",
    "id": "PqEKvmvvzmhx"
   },
   "source": [
    "## 4.0. Load dataset"
   ]
  },
  {
   "cell_type": "code",
   "execution_count": 350,
   "metadata": {
    "colab": {
     "base_uri": "https://localhost:8080/",
     "height": 34
    },
    "colab_type": "code",
    "id": "Ar894XeOOgZc",
    "outputId": "2f444bd5-4b55-4b00-a41d-2f2bc7d4d04c"
   },
   "outputs": [
    {
     "name": "stdout",
     "output_type": "stream",
     "text": [
      "(768, 9)\n"
     ]
    }
   ],
   "source": [
    "# Importing the dataset\n",
    "dataset = pd.read_csv('/content/pima-indians-diabetes.csv') \n",
    "print(dataset.shape)"
   ]
  },
  {
   "cell_type": "markdown",
   "metadata": {
    "colab_type": "text",
    "id": "xBhYywgpFlNJ"
   },
   "source": [
    "## 4.1. Understanding the data\n"
   ]
  },
  {
   "cell_type": "markdown",
   "metadata": {
    "colab_type": "text",
    "id": "hkE1Q10H8Q-X"
   },
   "source": [
    "\n",
    "### 4.1.1. Inspecting Dataset"
   ]
  },
  {
   "cell_type": "code",
   "execution_count": 351,
   "metadata": {
    "colab": {
     "base_uri": "https://localhost:8080/",
     "height": 937
    },
    "colab_type": "code",
    "id": "AR1bj9sIFqmA",
    "outputId": "2c77c1fb-625c-48d3-e16e-d1184b87726e"
   },
   "outputs": [
    {
     "name": "stdout",
     "output_type": "stream",
     "text": [
      "   pregnant  plasma_glucose  dia_BP  skin_thickness  serum_insulin   bmi  \\\n",
      "0         6             148      72              35              0  33.6   \n",
      "1         1              85      66              29              0  26.6   \n",
      "2         8             183      64               0              0  23.3   \n",
      "3         1              89      66              23             94  28.1   \n",
      "4         0             137      40              35            168  43.1   \n",
      "\n",
      "   diab_pedigree  age  Diab  \n",
      "0          0.627   50     1  \n",
      "1          0.351   31     0  \n",
      "2          0.672   32     1  \n",
      "3          0.167   21     0  \n",
      "4          2.288   33     1  \n",
      "================================================================================\n",
      "================================================================================\n",
      "         pregnant  plasma_glucose      dia_BP  skin_thickness  serum_insulin  \\\n",
      "count  768.000000      768.000000  768.000000      768.000000     768.000000   \n",
      "mean     3.845052      120.894531   69.105469       20.536458      79.799479   \n",
      "std      3.369578       31.972618   19.355807       15.952218     115.244002   \n",
      "min      0.000000        0.000000    0.000000        0.000000       0.000000   \n",
      "25%      1.000000       99.000000   62.000000        0.000000       0.000000   \n",
      "50%      3.000000      117.000000   72.000000       23.000000      30.500000   \n",
      "75%      6.000000      140.250000   80.000000       32.000000     127.250000   \n",
      "max     17.000000      199.000000  122.000000       99.000000     846.000000   \n",
      "\n",
      "              bmi  diab_pedigree         age        Diab  \n",
      "count  768.000000     768.000000  768.000000  768.000000  \n",
      "mean    31.992578       0.471876   33.240885    0.348958  \n",
      "std      7.884160       0.331329   11.760232    0.476951  \n",
      "min      0.000000       0.078000   21.000000    0.000000  \n",
      "25%     27.300000       0.243750   24.000000    0.000000  \n",
      "50%     32.000000       0.372500   29.000000    0.000000  \n",
      "75%     36.600000       0.626250   41.000000    1.000000  \n",
      "max     67.100000       2.420000   81.000000    1.000000  \n",
      "================================================================================\n",
      "================================================================================\n",
      "<class 'pandas.core.frame.DataFrame'>\n",
      "RangeIndex: 768 entries, 0 to 767\n",
      "Data columns (total 9 columns):\n",
      " #   Column          Non-Null Count  Dtype  \n",
      "---  ------          --------------  -----  \n",
      " 0   pregnant        768 non-null    int64  \n",
      " 1   plasma_glucose  768 non-null    int64  \n",
      " 2   dia_BP          768 non-null    int64  \n",
      " 3   skin_thickness  768 non-null    int64  \n",
      " 4   serum_insulin   768 non-null    int64  \n",
      " 5   bmi             768 non-null    float64\n",
      " 6   diab_pedigree   768 non-null    float64\n",
      " 7   age             768 non-null    int64  \n",
      " 8   Diab            768 non-null    int64  \n",
      "dtypes: float64(2), int64(7)\n",
      "memory usage: 54.1 KB\n",
      "None\n"
     ]
    }
   ],
   "source": [
    "pd.set_option('display.max_columns', 10)\n",
    "pd.set_option('display.width', 80)\n",
    "print(dataset.head())\n",
    "print(\"=\"*80)\n",
    "print(\"=\"*80)\n",
    "print(dataset.describe())\n",
    "print(\"=\"*80)\n",
    "print(\"=\"*80)\n",
    "print(dataset.info())\n",
    "\n",
    "#dataset.plot(kind='scatter', subplots=True, layout=(3, 3), sharey=False)\n",
    "#plt.show()"
   ]
  },
  {
   "cell_type": "code",
   "execution_count": 352,
   "metadata": {
    "colab": {},
    "colab_type": "code",
    "id": "CZDfmUX7WauX"
   },
   "outputs": [],
   "source": [
    "#Creating info_dict for easier ploting\n",
    "info_dict = {\n",
    "    0:   [\"pregnant\", \"# Pregnancies\"],\n",
    "    1:   [\"plasma_glucose\", \"Plasma glucose concentration 2 hrs OGTT (mg/dl)\"],\n",
    "    2:   [\"dia_BP\", \"Diastolic Blood Pressure (mm Hg)\"],          \n",
    "    3:   [\"skin_thickness\", \"Triceps skin fold thickness (mm)\"], \n",
    "    4:   [\"serum_insulin\", \"2-Hour serum insulin (mu U/ml)\"],   \n",
    "    5:   [\"bmi\", \"BMI (kg/m^2)\"],            \n",
    "    6:   [\"diab_pedigree\", \"Diabetes pedigree function\"],  \n",
    "    7:   [\"age\", \"Age (years)\"]             \n",
    "}"
   ]
  },
  {
   "cell_type": "markdown",
   "metadata": {
    "colab_type": "text",
    "id": "Ud5iOl46JxZA"
   },
   "source": [
    "### 4.1.2. Selecting class labels, and featureset\n",
    "\n",
    "\n"
   ]
  },
  {
   "cell_type": "code",
   "execution_count": 353,
   "metadata": {
    "colab": {
     "base_uri": "https://localhost:8080/",
     "height": 364
    },
    "colab_type": "code",
    "id": "eL6LsxMjJ2oF",
    "outputId": "43036f65-4aaf-4428-b31b-0b299214a3bd"
   },
   "outputs": [
    {
     "name": "stdout",
     "output_type": "stream",
     "text": [
      "   pregnant  plasma_glucose  dia_BP  skin_thickness  serum_insulin   bmi  \\\n",
      "0         6             148      72              35              0  33.6   \n",
      "1         1              85      66              29              0  26.6   \n",
      "2         8             183      64               0              0  23.3   \n",
      "3         1              89      66              23             94  28.1   \n",
      "4         0             137      40              35            168  43.1   \n",
      "\n",
      "   diab_pedigree  age  \n",
      "0          0.627   50  \n",
      "1          0.351   31  \n",
      "2          0.672   32  \n",
      "3          0.167   21  \n",
      "4          2.288   33   \n",
      "\n",
      "0    1\n",
      "1    0\n",
      "2    1\n",
      "3    0\n",
      "4    1\n",
      "Name: Diab, dtype: int64\n"
     ]
    }
   ],
   "source": [
    "X = dataset.drop(columns=['Diab'])\n",
    "print(X.head(), '\\n')\n",
    "y = dataset['Diab']\n",
    "print(y.head())"
   ]
  },
  {
   "cell_type": "markdown",
   "metadata": {
    "colab_type": "text",
    "id": "XB9L8qfiQp1G"
   },
   "source": [
    "### 4.1.3. Plotting the dataset\n",
    "\n"
   ]
  },
  {
   "cell_type": "code",
   "execution_count": 354,
   "metadata": {
    "colab": {
     "base_uri": "https://localhost:8080/",
     "height": 1000
    },
    "colab_type": "code",
    "id": "ssYyJRg9QsHC",
    "outputId": "ccfd61c3-ad44-49b5-c37c-9c578ae90299"
   },
   "outputs": [
    {
     "data": {
      "image/png": "[encoded data removed]",
      "text/plain": [
       "<Figure size 1152x1296 with 8 Axes>"
      ]
     },
     "metadata": {
      "needs_background": "light",
      "tags": []
     },
     "output_type": "display_data"
    }
   ],
   "source": [
    "fig =  plt.figure(figsize=(16,18))\n",
    "for i in range(8):\n",
    "  ax = fig.add_subplot(4, 2, i+1)\n",
    "  ax.scatter(X.iloc[:, i], y)\n",
    "  ax.set_title(info_dict[i][1])\n",
    "  ax.set_ylabel(\"Diabates Risk\")\n",
    "  ax.set_ylim(-1,2)\n",
    "\n",
    "plt.show()\n"
   ]
  },
  {
   "cell_type": "markdown",
   "metadata": {
    "colab_type": "text",
    "id": "qAV2ZVTo689c"
   },
   "source": [
    "### 4.1.4. Observations\n",
    "\n",
    "#### Invalid data points\n",
    "It can be observed that several features have zero values when it is impossible to have zero values for them. `plasma_glucose`, `dia_BP`, `BMI` etc are a few such features. Either these outliers can be removed from the dataset or can be replaced with mean values.\n",
    "\n",
    "#### <em>Which input variable, do you think, is better in predicting if someone is going to get diabetes in the next 5 year?</em>\n",
    "It is hard from the plots in `4.1.3` alone to predict which input variable is better in predicting if someone is going to get diabetes in the next 5 years. On visual inspection, `BMI`, `plasma_glucose` seems to have some effect on the outcome.\n",
    "\n",
    "Comparing means of each feature between diabetic and non-diabetic might give some insights. But the means can be affected by the outliers. From the code cell below, it can be observed that diabetic patients have a higher `BMI=35` as compared to `BMI=30` for non-diabetics.\n",
    "\n",
    "Another option might be to see the correlation between features and Diab. Padas provide a method `corr()` for dataframes. This was tested in the cell below and `BMI`, `plasma_glucose`, `diab_pedigree`, `serum_insulin` & even `age` to some extent was found to have an influence on diabetes. \n",
    "\n"
   ]
  },
  {
   "cell_type": "code",
   "execution_count": 355,
   "metadata": {
    "colab": {
     "base_uri": "https://localhost:8080/",
     "height": 887
    },
    "colab_type": "code",
    "id": "brL6ZKUqJcMb",
    "outputId": "247b4c66-3a83-4d4f-e834-4ef06057df72"
   },
   "outputs": [
    {
     "name": "stdout",
     "output_type": "stream",
     "text": [
      "Avg value of pregnant         when, y = 1, is 4.865671641791045\n",
      "Avg value of pregnant         when, y = 0, is 3.298\n",
      "\n",
      "\n",
      "Avg value of plasma_glucose   when, y = 1, is 141.25746268656715\n",
      "Avg value of plasma_glucose   when, y = 0, is 109.98\n",
      "\n",
      "\n",
      "Avg value of dia_BP           when, y = 1, is 70.82462686567165\n",
      "Avg value of dia_BP           when, y = 0, is 68.184\n",
      "\n",
      "\n",
      "Avg value of skin_thickness   when, y = 1, is 22.16417910447761\n",
      "Avg value of skin_thickness   when, y = 0, is 19.664\n",
      "\n",
      "\n",
      "Avg value of serum_insulin    when, y = 1, is 100.33582089552239\n",
      "Avg value of serum_insulin    when, y = 0, is 68.792\n",
      "\n",
      "\n",
      "Avg value of bmi              when, y = 1, is 35.14253731343278\n",
      "Avg value of bmi              when, y = 0, is 30.30419999999996\n",
      "\n",
      "\n",
      "Avg value of diab_pedigree    when, y = 1, is 0.5505\n",
      "Avg value of diab_pedigree    when, y = 0, is 0.42973400000000017\n",
      "\n",
      "\n",
      "Avg value of age              when, y = 1, is 37.06716417910448\n",
      "Avg value of age              when, y = 0, is 31.19\n",
      "\n",
      "\n"
     ]
    },
    {
     "data": {
      "text/html": [
       "<div>\n",
       "<style scoped>\n",
       "    .dataframe tbody tr th:only-of-type {\n",
       "        vertical-align: middle;\n",
       "    }\n",
       "\n",
       "    .dataframe tbody tr th {\n",
       "        vertical-align: top;\n",
       "    }\n",
       "\n",
       "    .dataframe thead th {\n",
       "        text-align: right;\n",
       "    }\n",
       "</style>\n",
       "<table border=\"1\" class=\"dataframe\">\n",
       "  <thead>\n",
       "    <tr style=\"text-align: right;\">\n",
       "      <th></th>\n",
       "      <th>pregnant</th>\n",
       "      <th>plasma_glucose</th>\n",
       "      <th>dia_BP</th>\n",
       "      <th>skin_thickness</th>\n",
       "      <th>serum_insulin</th>\n",
       "      <th>bmi</th>\n",
       "      <th>diab_pedigree</th>\n",
       "      <th>age</th>\n",
       "      <th>Diab</th>\n",
       "    </tr>\n",
       "  </thead>\n",
       "  <tbody>\n",
       "    <tr>\n",
       "      <th>pregnant</th>\n",
       "      <td>1.000000</td>\n",
       "      <td>0.129459</td>\n",
       "      <td>0.141282</td>\n",
       "      <td>-0.081672</td>\n",
       "      <td>-0.073535</td>\n",
       "      <td>0.017683</td>\n",
       "      <td>-0.033523</td>\n",
       "      <td>0.544341</td>\n",
       "      <td>0.221898</td>\n",
       "    </tr>\n",
       "    <tr>\n",
       "      <th>plasma_glucose</th>\n",
       "      <td>0.129459</td>\n",
       "      <td>1.000000</td>\n",
       "      <td>0.152590</td>\n",
       "      <td>0.057328</td>\n",
       "      <td>0.331357</td>\n",
       "      <td>0.221071</td>\n",
       "      <td>0.137337</td>\n",
       "      <td>0.263514</td>\n",
       "      <td>0.466581</td>\n",
       "    </tr>\n",
       "    <tr>\n",
       "      <th>dia_BP</th>\n",
       "      <td>0.141282</td>\n",
       "      <td>0.152590</td>\n",
       "      <td>1.000000</td>\n",
       "      <td>0.207371</td>\n",
       "      <td>0.088933</td>\n",
       "      <td>0.281805</td>\n",
       "      <td>0.041265</td>\n",
       "      <td>0.239528</td>\n",
       "      <td>0.065068</td>\n",
       "    </tr>\n",
       "    <tr>\n",
       "      <th>skin_thickness</th>\n",
       "      <td>-0.081672</td>\n",
       "      <td>0.057328</td>\n",
       "      <td>0.207371</td>\n",
       "      <td>1.000000</td>\n",
       "      <td>0.436783</td>\n",
       "      <td>0.392573</td>\n",
       "      <td>0.183928</td>\n",
       "      <td>-0.113970</td>\n",
       "      <td>0.074752</td>\n",
       "    </tr>\n",
       "    <tr>\n",
       "      <th>serum_insulin</th>\n",
       "      <td>-0.073535</td>\n",
       "      <td>0.331357</td>\n",
       "      <td>0.088933</td>\n",
       "      <td>0.436783</td>\n",
       "      <td>1.000000</td>\n",
       "      <td>0.197859</td>\n",
       "      <td>0.185071</td>\n",
       "      <td>-0.042163</td>\n",
       "      <td>0.130548</td>\n",
       "    </tr>\n",
       "    <tr>\n",
       "      <th>bmi</th>\n",
       "      <td>0.017683</td>\n",
       "      <td>0.221071</td>\n",
       "      <td>0.281805</td>\n",
       "      <td>0.392573</td>\n",
       "      <td>0.197859</td>\n",
       "      <td>1.000000</td>\n",
       "      <td>0.140647</td>\n",
       "      <td>0.036242</td>\n",
       "      <td>0.292695</td>\n",
       "    </tr>\n",
       "    <tr>\n",
       "      <th>diab_pedigree</th>\n",
       "      <td>-0.033523</td>\n",
       "      <td>0.137337</td>\n",
       "      <td>0.041265</td>\n",
       "      <td>0.183928</td>\n",
       "      <td>0.185071</td>\n",
       "      <td>0.140647</td>\n",
       "      <td>1.000000</td>\n",
       "      <td>0.033561</td>\n",
       "      <td>0.173844</td>\n",
       "    </tr>\n",
       "    <tr>\n",
       "      <th>age</th>\n",
       "      <td>0.544341</td>\n",
       "      <td>0.263514</td>\n",
       "      <td>0.239528</td>\n",
       "      <td>-0.113970</td>\n",
       "      <td>-0.042163</td>\n",
       "      <td>0.036242</td>\n",
       "      <td>0.033561</td>\n",
       "      <td>1.000000</td>\n",
       "      <td>0.238356</td>\n",
       "    </tr>\n",
       "    <tr>\n",
       "      <th>Diab</th>\n",
       "      <td>0.221898</td>\n",
       "      <td>0.466581</td>\n",
       "      <td>0.065068</td>\n",
       "      <td>0.074752</td>\n",
       "      <td>0.130548</td>\n",
       "      <td>0.292695</td>\n",
       "      <td>0.173844</td>\n",
       "      <td>0.238356</td>\n",
       "      <td>1.000000</td>\n",
       "    </tr>\n",
       "  </tbody>\n",
       "</table>\n",
       "</div>"
      ],
      "text/plain": [
       "                pregnant  plasma_glucose    dia_BP  skin_thickness  \\\n",
       "pregnant        1.000000        0.129459  0.141282       -0.081672   \n",
       "plasma_glucose  0.129459        1.000000  0.152590        0.057328   \n",
       "dia_BP          0.141282        0.152590  1.000000        0.207371   \n",
       "skin_thickness -0.081672        0.057328  0.207371        1.000000   \n",
       "serum_insulin  -0.073535        0.331357  0.088933        0.436783   \n",
       "bmi             0.017683        0.221071  0.281805        0.392573   \n",
       "diab_pedigree  -0.033523        0.137337  0.041265        0.183928   \n",
       "age             0.544341        0.263514  0.239528       -0.113970   \n",
       "Diab            0.221898        0.466581  0.065068        0.074752   \n",
       "\n",
       "                serum_insulin       bmi  diab_pedigree       age      Diab  \n",
       "pregnant            -0.073535  0.017683      -0.033523  0.544341  0.221898  \n",
       "plasma_glucose       0.331357  0.221071       0.137337  0.263514  0.466581  \n",
       "dia_BP               0.088933  0.281805       0.041265  0.239528  0.065068  \n",
       "skin_thickness       0.436783  0.392573       0.183928 -0.113970  0.074752  \n",
       "serum_insulin        1.000000  0.197859       0.185071 -0.042163  0.130548  \n",
       "bmi                  0.197859  1.000000       0.140647  0.036242  0.292695  \n",
       "diab_pedigree        0.185071  0.140647       1.000000  0.033561  0.173844  \n",
       "age                 -0.042163  0.036242       0.033561  1.000000  0.238356  \n",
       "Diab                 0.130548  0.292695       0.173844  0.238356  1.000000  "
      ]
     },
     "execution_count": 355,
     "metadata": {
      "tags": []
     },
     "output_type": "execute_result"
    }
   ],
   "source": [
    "for feature in X:\n",
    "  m1 = np.mean(dataset[dataset.Diab == 1][feature])\n",
    "  m0 = np.mean(dataset[dataset.Diab == 0][feature])\n",
    "  print(f\"Avg value of {feature:<16} when, y = 1, is {m1}\")\n",
    "  print(f\"Avg value of {feature:<16} when, y = 0, is {m0}\")\n",
    "  print(\"\\n\")\n",
    "\n",
    "dataset.corr(method='pearson')"
   ]
  },
  {
   "cell_type": "markdown",
   "metadata": {
    "colab_type": "text",
    "id": "p-XTW8P1SDZ5"
   },
   "source": [
    "### 4.1.5. Clean-up dataset\n",
    "\n",
    "Fixing zero values - On exploring the kaggle discussions on the dataset, it was found that the zero values are due to incomplete hospital records. We can compare effects on replacing these zero values.\n",
    "\n"
   ]
  },
  {
   "cell_type": "code",
   "execution_count": 356,
   "metadata": {
    "colab": {},
    "colab_type": "code",
    "id": "uHN_VB4kSLie"
   },
   "outputs": [],
   "source": [
    "replace_zeros_with_mean = False\n",
    "if replace_zeros_with_mean:\n",
    "  #testing    \n",
    "  print(dataset[dataset.bmi == 0])\n",
    "  print(\"-\"*80)\n",
    "\n",
    "  cols = [\"bmi\", \"dia_BP\", \"skin_thickness\", \"plasma_glucose\"]\n",
    "  means = []\n",
    "  for c in cols:\n",
    "    mean = np.mean(dataset[dataset[c] != 0][c])\n",
    "    means.append(mean)\n",
    "  \n",
    "  for c, m in zip(cols, means):\n",
    "    dataset[c] = dataset[c].replace(0, m)\n",
    "\n",
    "  #testing    \n",
    "  print(dataset[dataset.bmi == 0])"
   ]
  },
  {
   "cell_type": "markdown",
   "metadata": {
    "colab_type": "text",
    "id": "GNHJGlLmFpPo"
   },
   "source": [
    "## 4.2. Write code to find out how many people in the dataset are marked as having 5-year diabetes?\n",
    "\n",
    "From the code cell below, 268 patients are marked as having diabetes."
   ]
  },
  {
   "cell_type": "code",
   "execution_count": 357,
   "metadata": {
    "colab": {
     "base_uri": "https://localhost:8080/",
     "height": 424
    },
    "colab_type": "code",
    "id": "a0wB-3x6_S8X",
    "outputId": "98eb032e-af90-45c6-ce21-91569fb0aedf"
   },
   "outputs": [
    {
     "data": {
      "text/html": [
       "<div>\n",
       "<style scoped>\n",
       "    .dataframe tbody tr th:only-of-type {\n",
       "        vertical-align: middle;\n",
       "    }\n",
       "\n",
       "    .dataframe tbody tr th {\n",
       "        vertical-align: top;\n",
       "    }\n",
       "\n",
       "    .dataframe thead th {\n",
       "        text-align: right;\n",
       "    }\n",
       "</style>\n",
       "<table border=\"1\" class=\"dataframe\">\n",
       "  <thead>\n",
       "    <tr style=\"text-align: right;\">\n",
       "      <th></th>\n",
       "      <th>pregnant</th>\n",
       "      <th>plasma_glucose</th>\n",
       "      <th>dia_BP</th>\n",
       "      <th>skin_thickness</th>\n",
       "      <th>serum_insulin</th>\n",
       "      <th>bmi</th>\n",
       "      <th>diab_pedigree</th>\n",
       "      <th>age</th>\n",
       "      <th>Diab</th>\n",
       "    </tr>\n",
       "  </thead>\n",
       "  <tbody>\n",
       "    <tr>\n",
       "      <th>0</th>\n",
       "      <td>6</td>\n",
       "      <td>148</td>\n",
       "      <td>72</td>\n",
       "      <td>35</td>\n",
       "      <td>0</td>\n",
       "      <td>33.6</td>\n",
       "      <td>0.627</td>\n",
       "      <td>50</td>\n",
       "      <td>1</td>\n",
       "    </tr>\n",
       "    <tr>\n",
       "      <th>2</th>\n",
       "      <td>8</td>\n",
       "      <td>183</td>\n",
       "      <td>64</td>\n",
       "      <td>0</td>\n",
       "      <td>0</td>\n",
       "      <td>23.3</td>\n",
       "      <td>0.672</td>\n",
       "      <td>32</td>\n",
       "      <td>1</td>\n",
       "    </tr>\n",
       "    <tr>\n",
       "      <th>4</th>\n",
       "      <td>0</td>\n",
       "      <td>137</td>\n",
       "      <td>40</td>\n",
       "      <td>35</td>\n",
       "      <td>168</td>\n",
       "      <td>43.1</td>\n",
       "      <td>2.288</td>\n",
       "      <td>33</td>\n",
       "      <td>1</td>\n",
       "    </tr>\n",
       "    <tr>\n",
       "      <th>6</th>\n",
       "      <td>3</td>\n",
       "      <td>78</td>\n",
       "      <td>50</td>\n",
       "      <td>32</td>\n",
       "      <td>88</td>\n",
       "      <td>31.0</td>\n",
       "      <td>0.248</td>\n",
       "      <td>26</td>\n",
       "      <td>1</td>\n",
       "    </tr>\n",
       "    <tr>\n",
       "      <th>8</th>\n",
       "      <td>2</td>\n",
       "      <td>197</td>\n",
       "      <td>70</td>\n",
       "      <td>45</td>\n",
       "      <td>543</td>\n",
       "      <td>30.5</td>\n",
       "      <td>0.158</td>\n",
       "      <td>53</td>\n",
       "      <td>1</td>\n",
       "    </tr>\n",
       "    <tr>\n",
       "      <th>...</th>\n",
       "      <td>...</td>\n",
       "      <td>...</td>\n",
       "      <td>...</td>\n",
       "      <td>...</td>\n",
       "      <td>...</td>\n",
       "      <td>...</td>\n",
       "      <td>...</td>\n",
       "      <td>...</td>\n",
       "      <td>...</td>\n",
       "    </tr>\n",
       "    <tr>\n",
       "      <th>755</th>\n",
       "      <td>1</td>\n",
       "      <td>128</td>\n",
       "      <td>88</td>\n",
       "      <td>39</td>\n",
       "      <td>110</td>\n",
       "      <td>36.5</td>\n",
       "      <td>1.057</td>\n",
       "      <td>37</td>\n",
       "      <td>1</td>\n",
       "    </tr>\n",
       "    <tr>\n",
       "      <th>757</th>\n",
       "      <td>0</td>\n",
       "      <td>123</td>\n",
       "      <td>72</td>\n",
       "      <td>0</td>\n",
       "      <td>0</td>\n",
       "      <td>36.3</td>\n",
       "      <td>0.258</td>\n",
       "      <td>52</td>\n",
       "      <td>1</td>\n",
       "    </tr>\n",
       "    <tr>\n",
       "      <th>759</th>\n",
       "      <td>6</td>\n",
       "      <td>190</td>\n",
       "      <td>92</td>\n",
       "      <td>0</td>\n",
       "      <td>0</td>\n",
       "      <td>35.5</td>\n",
       "      <td>0.278</td>\n",
       "      <td>66</td>\n",
       "      <td>1</td>\n",
       "    </tr>\n",
       "    <tr>\n",
       "      <th>761</th>\n",
       "      <td>9</td>\n",
       "      <td>170</td>\n",
       "      <td>74</td>\n",
       "      <td>31</td>\n",
       "      <td>0</td>\n",
       "      <td>44.0</td>\n",
       "      <td>0.403</td>\n",
       "      <td>43</td>\n",
       "      <td>1</td>\n",
       "    </tr>\n",
       "    <tr>\n",
       "      <th>766</th>\n",
       "      <td>1</td>\n",
       "      <td>126</td>\n",
       "      <td>60</td>\n",
       "      <td>0</td>\n",
       "      <td>0</td>\n",
       "      <td>30.1</td>\n",
       "      <td>0.349</td>\n",
       "      <td>47</td>\n",
       "      <td>1</td>\n",
       "    </tr>\n",
       "  </tbody>\n",
       "</table>\n",
       "<p>268 rows × 9 columns</p>\n",
       "</div>"
      ],
      "text/plain": [
       "     pregnant  plasma_glucose  dia_BP  skin_thickness  serum_insulin   bmi  \\\n",
       "0           6             148      72              35              0  33.6   \n",
       "2           8             183      64               0              0  23.3   \n",
       "4           0             137      40              35            168  43.1   \n",
       "6           3              78      50              32             88  31.0   \n",
       "8           2             197      70              45            543  30.5   \n",
       "..        ...             ...     ...             ...            ...   ...   \n",
       "755         1             128      88              39            110  36.5   \n",
       "757         0             123      72               0              0  36.3   \n",
       "759         6             190      92               0              0  35.5   \n",
       "761         9             170      74              31              0  44.0   \n",
       "766         1             126      60               0              0  30.1   \n",
       "\n",
       "     diab_pedigree  age  Diab  \n",
       "0            0.627   50     1  \n",
       "2            0.672   32     1  \n",
       "4            2.288   33     1  \n",
       "6            0.248   26     1  \n",
       "8            0.158   53     1  \n",
       "..             ...  ...   ...  \n",
       "755          1.057   37     1  \n",
       "757          0.258   52     1  \n",
       "759          0.278   66     1  \n",
       "761          0.403   43     1  \n",
       "766          0.349   47     1  \n",
       "\n",
       "[268 rows x 9 columns]"
      ]
     },
     "execution_count": 357,
     "metadata": {
      "tags": []
     },
     "output_type": "execute_result"
    }
   ],
   "source": [
    "dataset[(dataset.Diab == 1)]\n",
    "#print(dataset[dataset.Diab == 1].shape[0])"
   ]
  },
  {
   "cell_type": "markdown",
   "metadata": {
    "colab_type": "text",
    "id": "RmuImaKHPrLI"
   },
   "source": [
    "## 4.3. Creating Logistic Reg. model and visualizing\n",
    "\n"
   ]
  },
  {
   "cell_type": "markdown",
   "metadata": {
    "colab_type": "text",
    "id": "ZWf5NVlqa3R0"
   },
   "source": [
    "### 4.3.1. Creating feature sets\n",
    "\n",
    "There separate feature sets are created as per `Q4.3`\n",
    "```\n",
    "X <- All features\n",
    "X_4_3_a <- 'age', 'pregnant', 'bmi'\n",
    "X_4_3_b <- 'skin_thickness', 'diab_pedigree', 'dia_BP'\n",
    "```"
   ]
  },
  {
   "cell_type": "code",
   "execution_count": 358,
   "metadata": {
    "colab": {
     "base_uri": "https://localhost:8080/",
     "height": 660
    },
    "colab_type": "code",
    "id": "KQeuey_3bWjr",
    "outputId": "bb44263f-e1ee-4a2f-de9a-c48ce7807d00"
   },
   "outputs": [
    {
     "name": "stdout",
     "output_type": "stream",
     "text": [
      "   pregnant  plasma_glucose  dia_BP  skin_thickness  serum_insulin   bmi  \\\n",
      "0         6             148      72              35              0  33.6   \n",
      "1         1              85      66              29              0  26.6   \n",
      "2         8             183      64               0              0  23.3   \n",
      "3         1              89      66              23             94  28.1   \n",
      "4         0             137      40              35            168  43.1   \n",
      "\n",
      "   diab_pedigree  age  \n",
      "0          0.627   50  \n",
      "1          0.351   31  \n",
      "2          0.672   32  \n",
      "3          0.167   21  \n",
      "4          2.288   33   \n",
      "\n",
      "--------------------------------------------------------------------------------\n",
      "   age  pregnant   bmi\n",
      "0   50         6  33.6\n",
      "1   31         1  26.6\n",
      "2   32         8  23.3\n",
      "3   21         1  28.1\n",
      "4   33         0  43.1 \n",
      "\n",
      "--------------------------------------------------------------------------------\n",
      "   skin_thickness  diab_pedigree  dia_BP\n",
      "0              35          0.627      72\n",
      "1              29          0.351      66\n",
      "2               0          0.672      64\n",
      "3              23          0.167      66\n",
      "4              35          2.288      40 \n",
      "\n",
      "--------------------------------------------------------------------------------\n",
      "0    1\n",
      "1    0\n",
      "2    1\n",
      "3    0\n",
      "4    1\n",
      "Name: Diab, dtype: int64\n"
     ]
    }
   ],
   "source": [
    "X = dataset.drop(columns=['Diab'])\n",
    "X_4_3_a = dataset[['age', 'pregnant', 'bmi']]\n",
    "X_4_3_b = dataset[['skin_thickness', 'diab_pedigree', 'dia_BP']]\n",
    "print(X.head(), '\\n')\n",
    "print(\"-\"*80)\n",
    "print(X_4_3_a.head(), '\\n')\n",
    "print(\"-\"*80)\n",
    "print(X_4_3_b.head(), '\\n')\n",
    "print(\"-\"*80)\n",
    "y = dataset['Diab']\n",
    "print(y.head())"
   ]
  },
  {
   "cell_type": "markdown",
   "metadata": {
    "colab_type": "text",
    "id": "IH8at6tMcISE"
   },
   "source": [
    "### 4.3.2. Logistic Regression\n",
    "#### Using all 8 input features"
   ]
  },
  {
   "cell_type": "code",
   "execution_count": 359,
   "metadata": {
    "colab": {
     "base_uri": "https://localhost:8080/",
     "height": 121
    },
    "colab_type": "code",
    "id": "hQgpaWDnPbWN",
    "outputId": "91e065c3-1326-4824-9089-aaa7853f1bd8"
   },
   "outputs": [
    {
     "name": "stdout",
     "output_type": "stream",
     "text": [
      "Accuracy of Logistic Regression Classifier: \n",
      "on test set: 0.78\n",
      "on train set: 0.77\n",
      "Confusion Matrix:\n",
      " [[141  16]\n",
      " [ 35  39]]\n"
     ]
    }
   ],
   "source": [
    "from sklearn.linear_model import LogisticRegression\n",
    "from sklearn.metrics import confusion_matrix\n",
    "from sklearn.model_selection import train_test_split\n",
    "\n",
    "def create_model(X, y, test_size=0.3, random_state=0, quiet=False):\n",
    "  \"\"\"\n",
    "\n",
    "  \"\"\"\n",
    "  X_train, X_test, y_train, y_test = train_test_split(X, y, test_size=test_size, random_state=random_state)\n",
    "  logreg = LogisticRegression(max_iter=200)\n",
    "  logreg.fit(X_train, y_train)\n",
    "\n",
    "  y_pred = logreg.predict(X_test)\n",
    "  test_acc = logreg.score(X_test, y_test)\n",
    "  train_acc = logreg.score(X_train, y_train)\n",
    "  if not quiet:\n",
    "    print(\"Accuracy of Logistic Regression Classifier: \")\n",
    "    print(f'on test set: {test_acc:.2f}')\n",
    "    print(f'on train set: {train_acc:.2f}')\n",
    "    print(\"Confusion Matrix:\\n\", confusion_matrix(y_test, y_pred))\n",
    "  influence = np.std(X, 0)*logreg.coef_[0]\n",
    "  return test_acc, train_acc, influence\n",
    "\n",
    "_, _, influence1 = create_model(X, y)"
   ]
  },
  {
   "cell_type": "markdown",
   "metadata": {
    "colab_type": "text",
    "id": "cMP3YlNJcp5O"
   },
   "source": [
    "#### a. Only age, pregnant, and bmi as the input features"
   ]
  },
  {
   "cell_type": "code",
   "execution_count": 360,
   "metadata": {
    "colab": {
     "base_uri": "https://localhost:8080/",
     "height": 191
    },
    "colab_type": "code",
    "id": "TRlprgo_gQNF",
    "outputId": "71d3e193-ef40-414b-935e-ccd16522bc38"
   },
   "outputs": [
    {
     "name": "stdout",
     "output_type": "stream",
     "text": [
      "Accuracy of Logistic Regression Classifier: \n",
      "on test set: 0.68\n",
      "on train set: 0.69\n",
      "Confusion Matrix:\n",
      " [[135  22]\n",
      " [ 51  23]]\n"
     ]
    },
    {
     "data": {
      "text/plain": [
       "(0.683982683982684, 0.6871508379888268, age         0.488079\n",
       " pregnant    0.218059\n",
       " bmi         0.869156\n",
       " dtype: float64)"
      ]
     },
     "execution_count": 360,
     "metadata": {
      "tags": []
     },
     "output_type": "execute_result"
    }
   ],
   "source": [
    "create_model(X_4_3_a, y)"
   ]
  },
  {
   "cell_type": "markdown",
   "metadata": {
    "colab_type": "text",
    "id": "soKfqVXAd1sk"
   },
   "source": [
    "#### b. Only skin_thickness, diab_pedigree, and dia_BP as the input features"
   ]
  },
  {
   "cell_type": "code",
   "execution_count": 361,
   "metadata": {
    "colab": {
     "base_uri": "https://localhost:8080/",
     "height": 191
    },
    "colab_type": "code",
    "id": "kroH8PsCg6pF",
    "outputId": "fe7140db-ac57-4845-8f5b-f9058168ef9b"
   },
   "outputs": [
    {
     "name": "stdout",
     "output_type": "stream",
     "text": [
      "Accuracy of Logistic Regression Classifier: \n",
      "on test set: 0.68\n",
      "on train set: 0.64\n",
      "Confusion Matrix:\n",
      " [[151   6]\n",
      " [ 68   6]]\n"
     ]
    },
    {
     "data": {
      "text/plain": [
       "(0.6796536796536796, 0.6443202979515829, skin_thickness    0.134746\n",
       " diab_pedigree     0.276704\n",
       " dia_BP            0.136894\n",
       " dtype: float64)"
      ]
     },
     "execution_count": 361,
     "metadata": {
      "tags": []
     },
     "output_type": "execute_result"
    }
   ],
   "source": [
    "create_model(X_4_3_b, y)"
   ]
  },
  {
   "cell_type": "markdown",
   "metadata": {
    "colab_type": "text",
    "id": "NUM1RUCpi2yG"
   },
   "source": [
    "#### Trying out alternate input feature sets\n",
    "\n",
    "'plasma_glucose', 'serum_insulin', 'bmi', 'diab_pedigree'"
   ]
  },
  {
   "cell_type": "code",
   "execution_count": 362,
   "metadata": {
    "colab": {
     "base_uri": "https://localhost:8080/",
     "height": 121
    },
    "colab_type": "code",
    "id": "XrBwbrc5jHxM",
    "outputId": "9c175c37-a6a3-41fa-82ec-6fe5f2d92109"
   },
   "outputs": [
    {
     "name": "stdout",
     "output_type": "stream",
     "text": [
      "Accuracy of Logistic Regression Classifier: \n",
      "on test set: 0.80\n",
      "on train set: 0.76\n",
      "Confusion Matrix:\n",
      " [[143  14]\n",
      " [ 33  41]]\n"
     ]
    }
   ],
   "source": [
    "#picked from top correlations\n",
    "X_4_3_x = dataset[['plasma_glucose', 'serum_insulin', 'bmi', 'diab_pedigree']]\n",
    "_, _, influence2 = create_model(X_4_3_x, y)"
   ]
  },
  {
   "cell_type": "markdown",
   "metadata": {
    "colab_type": "text",
    "id": "2rbwDzd5fcwf"
   },
   "source": [
    "## 4.4. Out of the three models (all features, and then (a), (b) features), which model performs the best in classification? Specify the reason too.\n",
    "\n",
    "#### Without replacing outlier zeros\n",
    "\n",
    "| Features Selected  | Test Accuracy  | Train Accuracy   | Confusion Matrix (tn, fp, fn, tp) |\n",
    "|---|---|---|---|\n",
    "| all features  | 0.78   | 0.77  | 141, 16, 35, 39  |\n",
    "| 4.3.a) age, pregnant, and bmi  | 0.68 | 0.69  | 135, 22, 51, 23  |\n",
    "| 4.3.b) skin_thickness, diab_pedigree, dia_BP  | 0.68  | 0.64  | 151, 6, 68, 6 |\n",
    "| plasma_glucose, serum_insulin, bmi, diab_pedigree  | 0.80  | 0.76  | 143, 14, 33, 41  |\n",
    "\n",
    "\n",
    "#### After replacing outlier zeros with mean\n",
    "\n",
    "| Features Selected  | Test Accuracy  | Train Accuracy   | Confusion Matrix (tn, fp, fn, tp) |\n",
    "|---|---|---|---|\n",
    "| all features  | 0.77   | 0.77  | 141, 16, 36, 38  |\n",
    "| 4.3.a) age, pregnant, and bmi  | 0.69 | 0.69  | 136, 21, 50, 24  |\n",
    "| 4.3.b) skin_thickness, diab_pedigree, dia_BP  | 0.72  | 0.65  | 150, 7, 57, 17 |\n",
    "| plasma_glucose, serum_insulin, bmi, diab_pedigree  | 0.79  | 0.77  | 140, 17, 31, 43  |\n",
    "\n",
    "\n",
    "\n",
    "The model with all 8 features performs best in the original three cases. This was because the other two `4.3.a` & `4.3.b` might not have been able to capture the true model as soem significant feature, like `plasma_glucose`, might have been omitted.\n",
    "\n",
    "\n",
    "On exploring to find if a better feature set existed it was found that `(plasma_glucose, serum_insulin, bmi, diab_pedigree)` performed better than the `8-input feature set`. \n",
    "For such a small dataset, it might be hard to know if this will always hold true. But finding conforms with existing literature on diabetes risks.\n",
    "\n",
    "\n",
    "Replacing zeros with mean didn't improve the best performing sets.\n",
    "Perhaps, this might be due to the fact that the outliers are preventing the model from overfitting to any particular feature too much.\n",
    "\n",
    "Interestingly, `4.3.b) skin_thickness, diab_pedigree, dia_BP` had the best true-negative among all, but it performed poorly on every other confusion matrix values (fn, fp & tp).\n",
    "\n",
    "It was also observed that, using a `test_size=0.2` also improves the test accuracy.\n",
    "\n",
    "Since we were able to achieve a better performance with fewer input features `(plasma_glucose, serum_insulin, bmi, diab_pedigree)`, the remaining input features can be considered insignificant for this particular dataset. It was  also note that the aforementioned four features had a higher correlation with `Diab`, when compared to features like `skin_thickness`.\n",
    "\n",
    "In the cell below, the influence of each feature can be observed from the `logreg.coef_` which are the magnitude of the coefficients, multiplied by `S.D` of each feature set [Ref](https://stackoverflow.com/questions/34052115/how-to-find-the-importance-of-the-features-for-a-logistic-regression-model).\n",
    "Even though, `dia_BP` has a higher magnitude than `serum_insulin` when all features were used, it doesn't improve performance - [code in last cell]"
   ]
  },
  {
   "cell_type": "code",
   "execution_count": 363,
   "metadata": {
    "colab": {
     "base_uri": "https://localhost:8080/",
     "height": 312
    },
    "colab_type": "code",
    "id": "dMGkTmeVw7w5",
    "outputId": "5cf24cd2-bf01-4f26-e6f9-ff76bb6425f5"
   },
   "outputs": [
    {
     "name": "stdout",
     "output_type": "stream",
     "text": [
      "8 input feature set\n",
      "dia_BP           -0.226341\n",
      "serum_insulin    -0.145447\n",
      "skin_thickness    0.099055\n",
      "diab_pedigree     0.226526\n",
      "pregnant          0.290324\n",
      "age               0.292800\n",
      "bmi               0.708817\n",
      "plasma_glucose    1.089174\n",
      "dtype: float64\n",
      "----------------------------------------\n",
      "4 input feature set\n",
      "serum_insulin    -0.195370\n",
      "diab_pedigree     0.230057\n",
      "bmi               0.623056\n",
      "plasma_glucose    1.181423\n",
      "dtype: float64\n"
     ]
    }
   ],
   "source": [
    "print(\"8 input feature set\")\n",
    "print(influence1.sort_values(axis=0))\n",
    "print('-'*40)\n",
    "print(\"4 input feature set\")\n",
    "print(influence2.sort_values(axis=0))"
   ]
  },
  {
   "cell_type": "code",
   "execution_count": 366,
   "metadata": {
    "colab": {
     "base_uri": "https://localhost:8080/",
     "height": 34
    },
    "colab_type": "code",
    "id": "r9ErjG89wV_E",
    "outputId": "7d32db92-bc53-48ec-d6b0-e3f912fe3908"
   },
   "outputs": [
    {
     "name": "stdout",
     "output_type": "stream",
     "text": [
      "best 4 input feature set - ('plasma_glucose', 'serum_insulin', 'bmi', 'diab_pedigree'), test_acc = 0.80\n"
     ]
    }
   ],
   "source": [
    "#Trying to find if a better accuracy feature set exist iteratively since we have a small dataset\n",
    "from  itertools import combinations\n",
    "features = [\"pregnant\", \"plasma_glucose\", 'dia_BP', \t'skin_thickness', \t'serum_insulin', \t'bmi', \t'diab_pedigree', \t'age']\n",
    "combs = list(combinations(features, 4)) #get all combinations of r=4\n",
    "#sum([list(map(list, combinations(features, i))) for i in range(1, len(features) + 1)], []) \n",
    "best_test = 0\n",
    "best_feature_set = []\n",
    "for c in combs:\n",
    "  X_4_3_x = dataset[list(c)]\n",
    "  test_acc, _, _ = create_model(X_4_3_x, y, quiet=True)\n",
    "  if test_acc > best_test:\n",
    "    best_test = test_acc\n",
    "    best_feature_set = c\n",
    "\n",
    "print(f\"best 4 input feature set - {best_feature_set}, test_acc = {best_test:.2f}\")"
   ]
  }
 ],
 "metadata": {
  "colab": {
   "collapsed_sections": [],
   "name": "LogisticRegression_PimaIndians.ipynb",
   "provenance": []
  },
  "kernelspec": {
   "display_name": "Python 3",
   "language": "python",
   "name": "python3"
  },
  "language_info": {
   "codemirror_mode": {
    "name": "ipython",
    "version": 3
   },
   "file_extension": ".py",
   "mimetype": "text/x-python",
   "name": "python",
   "nbconvert_exporter": "python",
   "pygments_lexer": "ipython3",
   "version": "3.8.5"
  }
 },
 "nbformat": 4,
 "nbformat_minor": 1
}
